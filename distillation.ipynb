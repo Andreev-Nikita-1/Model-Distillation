{
  "nbformat": 4,
  "nbformat_minor": 0,
  "metadata": {
    "kernelspec": {
      "display_name": "Python 3",
      "language": "python",
      "name": "python3"
    },
    "language_info": {
      "codemirror_mode": {
        "name": "ipython",
        "version": 3
      },
      "file_extension": ".py",
      "mimetype": "text/x-python",
      "name": "python",
      "nbconvert_exporter": "python",
      "pygments_lexer": "ipython3",
      "version": "3.7.4"
    },
    "colab": {
      "name": "Untitled3.ipynb",
      "provenance": []
    },
    "accelerator": "GPU"
  },
  "cells": [
    {
      "cell_type": "code",
      "metadata": {
        "id": "DyU0ieBzWtAf"
      },
      "source": [
        "import torch\n",
        "from torchvision.transforms import Compose, ToTensor, Normalize\n",
        "from torchvision.datasets import CIFAR10\n",
        "from torch import nn\n",
        "from torch import optim\n",
        "from torchvision import models\n",
        "from torch.utils.data import DataLoader\n",
        "from tqdm import tqdm"
      ],
      "execution_count": 4,
      "outputs": []
    },
    {
      "cell_type": "code",
      "metadata": {
        "colab": {
          "base_uri": "https://localhost:8080/"
        },
        "id": "oq0yWthoWtAg",
        "outputId": "760b228c-c455-4f68-911c-0e820d3a9dd0"
      },
      "source": [
        "train_data = CIFAR10(root='./data', train=True, download=True, transform=Compose([ToTensor(),Normalize((0.5, 0.5, 0.5), (0.5, 0.5, 0.5))]))\n",
        "test_data = CIFAR10(root='./data', train=False, download=True, transform=Compose([ToTensor(),Normalize((0.5, 0.5, 0.5), (0.5, 0.5, 0.5))]))"
      ],
      "execution_count": 5,
      "outputs": [
        {
          "output_type": "stream",
          "text": [
            "Files already downloaded and verified\n",
            "Files already downloaded and verified\n"
          ],
          "name": "stdout"
        }
      ]
    },
    {
      "cell_type": "code",
      "metadata": {
        "id": "NeiE5PDzWtAh"
      },
      "source": [
        "device = torch.device('cuda' if torch.cuda.is_available() else 'cpu')"
      ],
      "execution_count": 6,
      "outputs": []
    },
    {
      "cell_type": "code",
      "metadata": {
        "id": "nNEC2QBOczgO"
      },
      "source": [
        "class ExampleModel(nn.Module):\n",
        "    def __init__(self):\n",
        "        super().__init__()\n",
        "        self.resnet = models.resnet18(pretrained=True)\n",
        "        self.resnet.fc = nn.Linear(self.resnet.fc.in_features, 10)\n",
        "        self.ce_loss = nn.CrossEntropyLoss()\n",
        "\n",
        "    def forward(self, x):\n",
        "        return self.resnet(x)\n",
        "\n",
        "    def loss(self, inputs, labels):\n",
        "        outputs = self.forward(inputs)\n",
        "        correct = (outputs.argmax(dim=1) == labels).sum().item()\n",
        "        return self.ce_loss(outputs, labels), correct"
      ],
      "execution_count": 7,
      "outputs": []
    },
    {
      "cell_type": "code",
      "metadata": {
        "id": "wKEWAripea9X"
      },
      "source": [
        "example_model = ExampleModel().to(device)"
      ],
      "execution_count": 14,
      "outputs": []
    },
    {
      "cell_type": "code",
      "metadata": {
        "id": "NKsYcXiWfLqX"
      },
      "source": [
        "lr = 1e-2\n",
        "batch_size = 256"
      ],
      "execution_count": 15,
      "outputs": []
    },
    {
      "cell_type": "code",
      "metadata": {
        "id": "1TKEWUv0jBl1"
      },
      "source": [
        "train_loader = DataLoader(train_data, batch_size=batch_size)\n",
        "test_loader = DataLoader(test_data, batch_size=batch_size)"
      ],
      "execution_count": 16,
      "outputs": []
    },
    {
      "cell_type": "code",
      "metadata": {
        "id": "Ef86xA0DftiO"
      },
      "source": [
        "optimizer = torch.optim.SGD([\n",
        "            {'params': list(example_model.parameters())[:-2]},\n",
        "            {'params': example_model.resnet.fc.parameters(), 'lr': lr}\n",
        "        ], lr=lr*0.1, momentum=0.9)"
      ],
      "execution_count": 17,
      "outputs": []
    },
    {
      "cell_type": "code",
      "metadata": {
        "id": "V3vY3Qq1f0e5"
      },
      "source": [
        "def train(model, optimizer, train_loader, test_loader, epochs):\n",
        "\n",
        "  def step():\n",
        "    correct = 0\n",
        "    count = 0\n",
        "    for inputs, labels in train_loader:\n",
        "        inputs = inputs.to(device)\n",
        "        labels = labels.to(device)\n",
        "        loss, cor = model.loss(inputs, labels)\n",
        "        correct += cor\n",
        "        count += inputs.shape[0]\n",
        "        optimizer.zero_grad()\n",
        "        loss.backward()\n",
        "        optimizer.step()\n",
        "    return correct/count\n",
        "\n",
        "  def test():\n",
        "    correct = 0\n",
        "    count = 0\n",
        "    for inputs, labels in test_loader:\n",
        "        inputs = inputs.to(device)\n",
        "        labels = labels.to(device)\n",
        "        with torch.no_grad():\n",
        "            loss, cor = model.loss(inputs, labels)\n",
        "            correct += cor\n",
        "            count += inputs.shape[0]\n",
        "    return correct/count\n",
        "\n",
        "  for epoch in tqdm(range(epochs)):\n",
        "      train_accuracy = step()\n",
        "      test_accuracy = test()\n",
        "      print()\n",
        "      print('train accuracy =', train_accuracy)\n",
        "      print('test accuracy =', test_accuracy)"
      ],
      "execution_count": 18,
      "outputs": []
    },
    {
      "cell_type": "code",
      "metadata": {
        "colab": {
          "base_uri": "https://localhost:8080/"
        },
        "id": "09km6eEQWtAh",
        "outputId": "f4077b9e-e1df-447d-9091-d8f068350d9d"
      },
      "source": [
        "train(example_model, optimizer, train_loader, test_loader, epochs=6)"
      ],
      "execution_count": 19,
      "outputs": [
        {
          "output_type": "stream",
          "text": [
            "\n",
            "  0%|          | 0/6 [00:00<?, ?it/s]\u001b[A\n",
            " 17%|█▋        | 1/6 [00:19<01:38, 19.76s/it]\u001b[A"
          ],
          "name": "stderr"
        },
        {
          "output_type": "stream",
          "text": [
            "\n",
            "train accuracy = 0.54354\n",
            "test accuracy = 0.6511\n"
          ],
          "name": "stdout"
        },
        {
          "output_type": "stream",
          "text": [
            "\n",
            " 33%|███▎      | 2/6 [00:39<01:19, 19.77s/it]\u001b[A"
          ],
          "name": "stderr"
        },
        {
          "output_type": "stream",
          "text": [
            "\n",
            "train accuracy = 0.7229\n",
            "test accuracy = 0.7\n"
          ],
          "name": "stdout"
        },
        {
          "output_type": "stream",
          "text": [
            "\n",
            " 50%|█████     | 3/6 [00:58<00:58, 19.63s/it]\u001b[A"
          ],
          "name": "stderr"
        },
        {
          "output_type": "stream",
          "text": [
            "\n",
            "train accuracy = 0.79844\n",
            "test accuracy = 0.7101\n"
          ],
          "name": "stdout"
        },
        {
          "output_type": "stream",
          "text": [
            "\n",
            " 67%|██████▋   | 4/6 [01:18<00:39, 19.53s/it]\u001b[A"
          ],
          "name": "stderr"
        },
        {
          "output_type": "stream",
          "text": [
            "\n",
            "train accuracy = 0.8606\n",
            "test accuracy = 0.7136\n"
          ],
          "name": "stdout"
        },
        {
          "output_type": "stream",
          "text": [
            "\n",
            " 83%|████████▎ | 5/6 [01:37<00:19, 19.51s/it]\u001b[A"
          ],
          "name": "stderr"
        },
        {
          "output_type": "stream",
          "text": [
            "\n",
            "train accuracy = 0.9158\n",
            "test accuracy = 0.7136\n"
          ],
          "name": "stdout"
        },
        {
          "output_type": "stream",
          "text": [
            "\n",
            "100%|██████████| 6/6 [01:57<00:00, 19.53s/it]"
          ],
          "name": "stderr"
        },
        {
          "output_type": "stream",
          "text": [
            "\n",
            "train accuracy = 0.9559\n",
            "test accuracy = 0.7139\n"
          ],
          "name": "stdout"
        },
        {
          "output_type": "stream",
          "text": [
            "\n"
          ],
          "name": "stderr"
        }
      ]
    },
    {
      "cell_type": "code",
      "metadata": {
        "id": "JljMwBHNWtAh"
      },
      "source": [
        "class ImitationLoss(nn.Module):\n",
        "    def __init__(self, coeff=0.3):\n",
        "        super().__init__()\n",
        "        self.coeff = coeff\n",
        "        self.imit_loss = nn.MSELoss()\n",
        "        self.loss = nn.CrossEntropyLoss()\n",
        "    \n",
        "    \n",
        "    def forward(self, student, teacher, labels):\n",
        "        stud_loss = self.loss(student, labels)\n",
        "        imit_loss = self.imit_loss(student, teacher)\n",
        "        return self.coeff * stud_loss + (1 - self.coeff) * imit_loss"
      ],
      "execution_count": 20,
      "outputs": []
    },
    {
      "cell_type": "code",
      "metadata": {
        "id": "_Rfmk1BRWtAh"
      },
      "source": [
        "class ImitationModel(nn.Module):\n",
        "    def __init__(self, example_model):\n",
        "        super().__init__()\n",
        "        self.model = example_model\n",
        "        self.imit_loss = ImitationLoss()\n",
        "        self.conv2d = nn.Sequential(\n",
        "            nn.Conv2d(3, 10, 4), nn.ReLU(),\n",
        "            nn.MaxPool2d(2, 2), nn.ReLU(),\n",
        "            nn.Conv2d(10, 15, 5), nn.ReLU()\n",
        "        )\n",
        "        self.linear = nn.Sequential(\n",
        "            nn.Linear(1500, 100), nn.ReLU(), nn.Linear(100, 10)\n",
        "        )\n",
        "        \n",
        "    def forward(self, x):\n",
        "        x = self.conv2d(x)\n",
        "        return self.linear(x.view(-1, 1500))\n",
        "\n",
        "    def loss(self, inputs, labels):\n",
        "        pred = self.forward(inputs)\n",
        "        model_pred = self.model(inputs)\n",
        "        loss = self.imit_loss(pred, model_pred, labels)\n",
        "        correct = (pred.argmax(dim=1) == labels).sum().item()\n",
        "        return loss, correct"
      ],
      "execution_count": 21,
      "outputs": []
    },
    {
      "cell_type": "code",
      "metadata": {
        "id": "HhLbvwkMWtAh"
      },
      "source": [
        "model = ImitationModel(example_model).to(device)"
      ],
      "execution_count": 29,
      "outputs": []
    },
    {
      "cell_type": "code",
      "metadata": {
        "id": "mokPmI0boPaq"
      },
      "source": [
        "optimizer = optimizer = torch.optim.SGD([\n",
        "            {'params': list(model.parameters())[:-8]},\n",
        "            {'params': list(model.parameters())[-8:], 'lr': lr}\n",
        "        ], lr=lr*0.1, momentum=0.9)"
      ],
      "execution_count": 31,
      "outputs": []
    },
    {
      "cell_type": "code",
      "metadata": {
        "colab": {
          "base_uri": "https://localhost:8080/"
        },
        "id": "fWdxq03Fn5Yu",
        "outputId": "a047f801-b3dd-499b-9bf1-c4aac7de8e3f"
      },
      "source": [
        "train(model, optimizer, train_loader, test_loader, epochs=20)"
      ],
      "execution_count": 32,
      "outputs": [
        {
          "output_type": "stream",
          "text": [
            "\n",
            "\n",
            "  0%|          | 0/20 [00:00<?, ?it/s]\u001b[A\u001b[A\n",
            "\n",
            "  5%|▌         | 1/20 [00:19<06:18, 19.93s/it]\u001b[A\u001b[A"
          ],
          "name": "stderr"
        },
        {
          "output_type": "stream",
          "text": [
            "\n",
            "train accuracy = 0.19256\n",
            "test accuracy = 0.2691\n"
          ],
          "name": "stdout"
        },
        {
          "output_type": "stream",
          "text": [
            "\n",
            "\n",
            " 10%|█         | 2/20 [00:40<06:01, 20.07s/it]\u001b[A\u001b[A"
          ],
          "name": "stderr"
        },
        {
          "output_type": "stream",
          "text": [
            "\n",
            "train accuracy = 0.30516\n",
            "test accuracy = 0.3312\n"
          ],
          "name": "stdout"
        },
        {
          "output_type": "stream",
          "text": [
            "\n",
            "\n",
            " 15%|█▌        | 3/20 [01:00<05:40, 20.01s/it]\u001b[A\u001b[A"
          ],
          "name": "stderr"
        },
        {
          "output_type": "stream",
          "text": [
            "\n",
            "train accuracy = 0.35128\n",
            "test accuracy = 0.3683\n"
          ],
          "name": "stdout"
        },
        {
          "output_type": "stream",
          "text": [
            "\n",
            "\n",
            " 20%|██        | 4/20 [01:19<05:18, 19.89s/it]\u001b[A\u001b[A"
          ],
          "name": "stderr"
        },
        {
          "output_type": "stream",
          "text": [
            "\n",
            "train accuracy = 0.38748\n",
            "test accuracy = 0.4027\n"
          ],
          "name": "stdout"
        },
        {
          "output_type": "stream",
          "text": [
            "\n",
            "\n",
            " 25%|██▌       | 5/20 [01:39<04:57, 19.85s/it]\u001b[A\u001b[A"
          ],
          "name": "stderr"
        },
        {
          "output_type": "stream",
          "text": [
            "\n",
            "train accuracy = 0.41808\n",
            "test accuracy = 0.4298\n"
          ],
          "name": "stdout"
        },
        {
          "output_type": "stream",
          "text": [
            "\n",
            "\n",
            " 30%|███       | 6/20 [01:59<04:38, 19.87s/it]\u001b[A\u001b[A"
          ],
          "name": "stderr"
        },
        {
          "output_type": "stream",
          "text": [
            "\n",
            "train accuracy = 0.44076\n",
            "test accuracy = 0.4507\n"
          ],
          "name": "stdout"
        },
        {
          "output_type": "stream",
          "text": [
            "\n",
            "\n",
            " 35%|███▌      | 7/20 [02:19<04:18, 19.88s/it]\u001b[A\u001b[A"
          ],
          "name": "stderr"
        },
        {
          "output_type": "stream",
          "text": [
            "\n",
            "train accuracy = 0.45646\n",
            "test accuracy = 0.4622\n"
          ],
          "name": "stdout"
        },
        {
          "output_type": "stream",
          "text": [
            "\n",
            "\n",
            " 40%|████      | 8/20 [02:39<03:58, 19.85s/it]\u001b[A\u001b[A"
          ],
          "name": "stderr"
        },
        {
          "output_type": "stream",
          "text": [
            "\n",
            "train accuracy = 0.46844\n",
            "test accuracy = 0.4715\n"
          ],
          "name": "stdout"
        },
        {
          "output_type": "stream",
          "text": [
            "\n",
            "\n",
            " 45%|████▌     | 9/20 [02:58<03:38, 19.83s/it]\u001b[A\u001b[A"
          ],
          "name": "stderr"
        },
        {
          "output_type": "stream",
          "text": [
            "\n",
            "train accuracy = 0.48076\n",
            "test accuracy = 0.4815\n"
          ],
          "name": "stdout"
        },
        {
          "output_type": "stream",
          "text": [
            "\n",
            "\n",
            " 50%|█████     | 10/20 [03:18<03:18, 19.83s/it]\u001b[A\u001b[A"
          ],
          "name": "stderr"
        },
        {
          "output_type": "stream",
          "text": [
            "\n",
            "train accuracy = 0.49194\n",
            "test accuracy = 0.4941\n"
          ],
          "name": "stdout"
        },
        {
          "output_type": "stream",
          "text": [
            "\n",
            "\n",
            " 55%|█████▌    | 11/20 [03:38<02:58, 19.85s/it]\u001b[A\u001b[A"
          ],
          "name": "stderr"
        },
        {
          "output_type": "stream",
          "text": [
            "\n",
            "train accuracy = 0.50322\n",
            "test accuracy = 0.5045\n"
          ],
          "name": "stdout"
        },
        {
          "output_type": "stream",
          "text": [
            "\n",
            "\n",
            " 60%|██████    | 12/20 [03:58<02:38, 19.82s/it]\u001b[A\u001b[A"
          ],
          "name": "stderr"
        },
        {
          "output_type": "stream",
          "text": [
            "\n",
            "train accuracy = 0.51358\n",
            "test accuracy = 0.5118\n"
          ],
          "name": "stdout"
        },
        {
          "output_type": "stream",
          "text": [
            "\n",
            "\n",
            " 65%|██████▌   | 13/20 [04:18<02:18, 19.81s/it]\u001b[A\u001b[A"
          ],
          "name": "stderr"
        },
        {
          "output_type": "stream",
          "text": [
            "\n",
            "train accuracy = 0.52292\n",
            "test accuracy = 0.5231\n"
          ],
          "name": "stdout"
        },
        {
          "output_type": "stream",
          "text": [
            "\n",
            "\n",
            " 70%|███████   | 14/20 [04:38<01:58, 19.80s/it]\u001b[A\u001b[A"
          ],
          "name": "stderr"
        },
        {
          "output_type": "stream",
          "text": [
            "\n",
            "train accuracy = 0.53192\n",
            "test accuracy = 0.5306\n"
          ],
          "name": "stdout"
        },
        {
          "output_type": "stream",
          "text": [
            "\n",
            "\n",
            " 75%|███████▌  | 15/20 [04:57<01:39, 19.82s/it]\u001b[A\u001b[A"
          ],
          "name": "stderr"
        },
        {
          "output_type": "stream",
          "text": [
            "\n",
            "train accuracy = 0.54024\n",
            "test accuracy = 0.5386\n"
          ],
          "name": "stdout"
        },
        {
          "output_type": "stream",
          "text": [
            "\n",
            "\n",
            " 80%|████████  | 16/20 [05:17<01:19, 19.82s/it]\u001b[A\u001b[A"
          ],
          "name": "stderr"
        },
        {
          "output_type": "stream",
          "text": [
            "\n",
            "train accuracy = 0.54766\n",
            "test accuracy = 0.5457\n"
          ],
          "name": "stdout"
        },
        {
          "output_type": "stream",
          "text": [
            "\n",
            "\n",
            " 85%|████████▌ | 17/20 [05:37<00:59, 19.80s/it]\u001b[A\u001b[A"
          ],
          "name": "stderr"
        },
        {
          "output_type": "stream",
          "text": [
            "\n",
            "train accuracy = 0.55586\n",
            "test accuracy = 0.5544\n"
          ],
          "name": "stdout"
        },
        {
          "output_type": "stream",
          "text": [
            "\n",
            "\n",
            " 90%|█████████ | 18/20 [05:57<00:39, 19.80s/it]\u001b[A\u001b[A"
          ],
          "name": "stderr"
        },
        {
          "output_type": "stream",
          "text": [
            "\n",
            "train accuracy = 0.56398\n",
            "test accuracy = 0.561\n"
          ],
          "name": "stdout"
        },
        {
          "output_type": "stream",
          "text": [
            "\n",
            "\n",
            " 95%|█████████▌| 19/20 [06:17<00:19, 19.80s/it]\u001b[A\u001b[A"
          ],
          "name": "stderr"
        },
        {
          "output_type": "stream",
          "text": [
            "\n",
            "train accuracy = 0.57122\n",
            "test accuracy = 0.5671\n"
          ],
          "name": "stdout"
        },
        {
          "output_type": "stream",
          "text": [
            "\n",
            "\n",
            "100%|██████████| 20/20 [06:36<00:00, 19.84s/it]"
          ],
          "name": "stderr"
        },
        {
          "output_type": "stream",
          "text": [
            "\n",
            "train accuracy = 0.5784\n",
            "test accuracy = 0.5727\n"
          ],
          "name": "stdout"
        },
        {
          "output_type": "stream",
          "text": [
            "\n"
          ],
          "name": "stderr"
        }
      ]
    },
    {
      "cell_type": "code",
      "metadata": {
        "id": "QcwBFYSUWtAh"
      },
      "source": [
        "\n"
      ],
      "execution_count": null,
      "outputs": []
    },
    {
      "cell_type": "code",
      "metadata": {
        "id": "2CEG8gW-WtAh"
      },
      "source": [
        ""
      ],
      "execution_count": 156,
      "outputs": []
    },
    {
      "cell_type": "code",
      "metadata": {
        "id": "DKBgy0CgWtAh"
      },
      "source": [
        ""
      ],
      "execution_count": 157,
      "outputs": []
    },
    {
      "cell_type": "code",
      "metadata": {
        "id": "DMwCW7Y7WtAh"
      },
      "source": [
        ""
      ],
      "execution_count": 157,
      "outputs": []
    },
    {
      "cell_type": "code",
      "metadata": {
        "id": "Xa2u1b7sWtAh"
      },
      "source": [
        ""
      ],
      "execution_count": null,
      "outputs": []
    }
  ]
}